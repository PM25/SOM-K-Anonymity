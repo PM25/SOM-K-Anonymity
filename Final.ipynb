{
 "cells": [
  {
   "cell_type": "code",
   "execution_count": 13,
   "metadata": {},
   "outputs": [],
   "source": [
    "import pandas as pd\n",
    "import numpy as np\n",
    "from sklearn.preprocessing import StandardScaler, LabelEncoder\n",
    "from sklearn.utils import shuffle\n",
    "from sklearn.metrics import classification_report, confusion_matrix, accuracy_score, roc_auc_score\n",
    "from sklearn.model_selection import train_test_split\n",
    "\n",
    "import tensorflow as tf\n",
    "from tensorflow.keras.layers import Dense, Dropout\n",
    "from tensorflow.keras import Sequential"
   ]
  },
  {
   "cell_type": "code",
   "execution_count": 63,
   "metadata": {},
   "outputs": [],
   "source": [
    "class Data:\n",
    "    # Load Adult dataset and seperate to features(X) and target(y)\n",
    "    def __init__(self, path='data/adult.csv'):\n",
    "        df = shuffle(pd.read_csv(path))\n",
    "        df = self.clean(df)\n",
    "\n",
    "        self.y = df.pop('income')\n",
    "        self.X = df\n",
    "        \n",
    "        # Label encode y\n",
    "        self.y_encoder = LabelEncoder()\n",
    "        self.y = self.y_encoder.fit_transform(self.y)\n",
    "        \n",
    "        # One Hot encode X\n",
    "        self.X = pd.get_dummies(self.X)\n",
    "        \n",
    "        for name in self.X.columns:\n",
    "            if self.X[name].dtype == 'object':\n",
    "                self.X[name] = self.X[name].astype('category')\n",
    "    \n",
    "    def clean(self, df):\n",
    "        return df.replace('?', np.nan).dropna().drop('fnlwgt', axis=1)\n",
    "\n",
    "\n",
    "    def train_test_split(self):\n",
    "        return train_test_split(self.X, self.y, test_size=0.15)\n"
   ]
  },
  {
   "cell_type": "code",
   "execution_count": 55,
   "metadata": {},
   "outputs": [],
   "source": [
    "class TrainingModel:\n",
    "    def __init__(self, input_shape):\n",
    "        self.model = Sequential()\n",
    "        self.model.add(Dense(64, activation='relu', input_shape=input_shape))\n",
    "        self.model.add(Dropout(0.3))\n",
    "        self.model.add(Dense(128, activation='relu'))\n",
    "        self.model.add(Dropout(0.3))\n",
    "        self.model.add(Dense(128, activation='relu'))\n",
    "        self.model.add(Dense(1, activation='sigmoid'))\n",
    "        self.model.compile(optimizer='adam', \n",
    "              loss='binary_crossentropy', \n",
    "              metrics=['accuracy'])\n",
    "\n",
    "    def train(self, data, label):\n",
    "        self.model.fit(data, label, epochs=10, batch_size=128)\n",
    "    \n",
    "    def predict(self, data):\n",
    "        return self. model.predict_classes(data)\n",
    "    \n",
    "    def evalute_and_print_report(self, X_test, y_test):\n",
    "        y_predicted_base = base_model.predict(X_test)\n",
    "        y_predicted_probs_base = base_model.model.predict_proba(X_test)\n",
    "        base_model.report(y_test, y_predicted_base, y_predicted_probs_base)\n",
    "\n",
    "    def report(self, test, predicted, predicted_probs):\n",
    "        print('Accuracy score: {:.5f}'.format(accuracy_score(test, predicted)))\n",
    "        print('-' * 20)\n",
    "        print('Confusion Matrix:')\n",
    "        print(confusion_matrix(test, predicted))\n",
    "        print('-' * 20)\n",
    "        print(classification_report(test, predicted))\n",
    "        print('-' * 20)\n",
    "        print('AUC score: {:.5f}'.format(roc_auc_score(test, predicted_probs)))"
   ]
  },
  {
   "cell_type": "code",
   "execution_count": 64,
   "metadata": {},
   "outputs": [],
   "source": [
    "data = Data()"
   ]
  },
  {
   "cell_type": "code",
   "execution_count": 65,
   "metadata": {},
   "outputs": [],
   "source": [
    "X_train_origin, X_test_origin, y_train_origin, y_test_origin = data.train_test_split()"
   ]
  },
  {
   "cell_type": "markdown",
   "metadata": {},
   "source": [
    "# Train a base model"
   ]
  },
  {
   "cell_type": "code",
   "execution_count": 58,
   "metadata": {},
   "outputs": [],
   "source": [
    "base_model = TrainingModel((103, ))"
   ]
  },
  {
   "cell_type": "code",
   "execution_count": 59,
   "metadata": {
    "scrolled": true
   },
   "outputs": [
    {
     "name": "stdout",
     "output_type": "stream",
     "text": [
      "WARNING:tensorflow:Falling back from v2 loop because of error: Failed to find data adapter that can handle input: <class 'pandas.core.frame.DataFrame'>, <class 'NoneType'>\n",
      "Train on 38438 samples\n",
      "Epoch 1/10\n",
      "38438/38438 [==============================] - 1s 21us/sample - loss: 1.6219 - accuracy: 0.7320\n",
      "Epoch 2/10\n",
      "38438/38438 [==============================] - 1s 16us/sample - loss: 1.5060 - accuracy: 0.7692\n",
      "Epoch 3/10\n",
      "38438/38438 [==============================] - 1s 16us/sample - loss: 1.4796 - accuracy: 0.7823\n",
      "Epoch 4/10\n",
      "38438/38438 [==============================] - 1s 16us/sample - loss: 1.1598 - accuracy: 0.8023\n",
      "Epoch 5/10\n",
      "38438/38438 [==============================] - 1s 16us/sample - loss: 1.1136 - accuracy: 0.8089\n",
      "Epoch 6/10\n",
      "38438/38438 [==============================] - 1s 16us/sample - loss: 1.1074 - accuracy: 0.8103\n",
      "Epoch 7/10\n",
      "38438/38438 [==============================] - 1s 16us/sample - loss: 1.1059 - accuracy: 0.8119\n",
      "Epoch 8/10\n",
      "38438/38438 [==============================] - 1s 16us/sample - loss: 1.1037 - accuracy: 0.8124\n",
      "Epoch 9/10\n",
      "38438/38438 [==============================] - 1s 16us/sample - loss: 1.1034 - accuracy: 0.8131\n",
      "Epoch 10/10\n",
      "38438/38438 [==============================] - 1s 16us/sample - loss: 1.1182 - accuracy: 0.8138\n"
     ]
    }
   ],
   "source": [
    "base_model.train(X_train_origin, y_train_origin)"
   ]
  },
  {
   "cell_type": "code",
   "execution_count": 60,
   "metadata": {},
   "outputs": [
    {
     "name": "stdout",
     "output_type": "stream",
     "text": [
      "WARNING:tensorflow:Falling back from v2 loop because of error: Failed to find data adapter that can handle input: <class 'pandas.core.frame.DataFrame'>, <class 'NoneType'>\n",
      "WARNING:tensorflow:Falling back from v2 loop because of error: Failed to find data adapter that can handle input: <class 'pandas.core.frame.DataFrame'>, <class 'NoneType'>\n",
      "Accuracy score: 0.80793\n",
      "--------------------\n",
      "Confusion Matrix:\n",
      "[[4474  605]\n",
      " [ 698 1007]]\n",
      "--------------------\n",
      "              precision    recall  f1-score   support\n",
      "\n",
      "           0       0.87      0.88      0.87      5079\n",
      "           1       0.62      0.59      0.61      1705\n",
      "\n",
      "    accuracy                           0.81      6784\n",
      "   macro avg       0.74      0.74      0.74      6784\n",
      "weighted avg       0.80      0.81      0.81      6784\n",
      "\n",
      "--------------------\n",
      "AUC score: 0.79326\n"
     ]
    }
   ],
   "source": [
    "base_model.evalute_and_print_report(X_test_origin, y_test_origin)"
   ]
  },
  {
   "cell_type": "code",
   "execution_count": 62,
   "metadata": {},
   "outputs": [
    {
     "data": {
      "text/plain": [
       "'age'"
      ]
     },
     "execution_count": 62,
     "metadata": {},
     "output_type": "execute_result"
    }
   ],
   "source": [
    "X_train_origin.columns[0]"
   ]
  },
  {
   "cell_type": "code",
   "execution_count": null,
   "metadata": {},
   "outputs": [],
   "source": []
  }
 ],
 "metadata": {
  "kernelspec": {
   "display_name": "Python 3",
   "language": "python",
   "name": "python3"
  },
  "language_info": {
   "codemirror_mode": {
    "name": "ipython",
    "version": 3
   },
   "file_extension": ".py",
   "mimetype": "text/x-python",
   "name": "python",
   "nbconvert_exporter": "python",
   "pygments_lexer": "ipython3",
   "version": "3.6.6"
  }
 },
 "nbformat": 4,
 "nbformat_minor": 2
}
